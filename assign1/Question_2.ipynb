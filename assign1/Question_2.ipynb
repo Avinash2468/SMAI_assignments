{
 "cells": [
  {
   "cell_type": "code",
   "execution_count": 32,
   "metadata": {},
   "outputs": [],
   "source": [
    "import numpy as np\n",
    "import matplotlib.pyplot as plt\n",
    "\n",
    "import random\n",
    "import math"
   ]
  },
  {
   "cell_type": "code",
   "execution_count": 73,
   "metadata": {},
   "outputs": [
    {
     "name": "stdout",
     "output_type": "stream",
     "text": [
      "float64\n",
      "[4.90505157 7.32925355]\n",
      "P0 = (6.907533,3.428436), P1=(7.611798,2.056534), P = (7.092607,8.452233)\n",
      "The orthogonal distance from P to the line containing P0 and P1 is: 2.458959\n",
      "The slope of the line containing P0 and P1 is: -1.947992\n"
     ]
    }
   ],
   "source": [
    "\n",
    "# Generating random points for the Question\n",
    "\n",
    "p=np.random.rand(1,2)\n",
    "p_x=p[0,0]*10\n",
    "p_y=p[0,1]*10\n",
    "\n",
    "\n",
    "\n",
    "X=np.random.rand(1,2)\n",
    "x_1=X[0,0]*10\n",
    "x_2=X[0,1]*10\n",
    "\n",
    "\n",
    "\n",
    "Y=np.random.rand(1,2)\n",
    "y_1=Y[0,0]*10\n",
    "y_2=Y[0,1]*10\n",
    "\n",
    "while x_1 == x_2 and y_1==y_2: # Incase P0=P1, keep regenerating until we get different points\n",
    "    X=np.random.rand(1,2)\n",
    "    x_1=X[0,0]*10\n",
    "    x_2=X[0,1]*10\n",
    "    Y=np.random.rand(1,2)\n",
    "    y_1=Y[0,0]*10\n",
    "    y_2=Y[0,1]*10\n",
    "\n",
    "check_slope = 0 \n",
    "\n",
    "if (x_2-x_1)==0: # Checking if it is a vertical line which would make the slope infinity\n",
    "    check_slope = 1\n",
    "    \n",
    "    \n",
    "if check_slope ==0:\n",
    "    \n",
    "    # Calculating the equation of the line.\n",
    "    \n",
    "    slope = (y_2-y_1)/(x_2-x_1)\n",
    "\n",
    "    a = slope\n",
    "    b=-1\n",
    "    c = (-slope*x_1 + y_1)\n",
    "\n",
    "    c_foot = p_y - (-1/slope) * p_x\n",
    "\n",
    "    foot_y = p_y - (1/slope)\n",
    "    foot_x = p_x + 1\n",
    "\n",
    "    # Calculating the Distance from the point to the line\n",
    "\n",
    "    distance = abs(a*p_x + b*p_y +c)/math.sqrt(a**2 + b**2)\n",
    "    \n",
    "    \n",
    "    A = np.array([[slope,-1],[(-1/slope),-1]])\n",
    "    print(A.dtype)\n",
    "    B = np.array([-c,-c_foot])\n",
    "    x_soln = np.linalg.solve(A, B)\n",
    "    print(x_soln)\n",
    "else:\n",
    "    slope = np.inf\n",
    "    \n",
    "    # Incase of the vertical line, the distance is the difference between the X coordinates.\n",
    "    \n",
    "    distance = abs(x_1-p_x)\n",
    "    \n",
    "print(\"P0 = (%f,%f), P1=(%f,%f), P = (%f,%f)\"%(x_1,y_1,x_2,y_2,p_x,p_y))\n",
    "print(\"The orthogonal distance from P to the line containing P0 and P1 is: %f\"%(distance))\n",
    "print(\"The slope of the line containing P0 and P1 is: %f\"%(slope))"
   ]
  },
  {
   "cell_type": "code",
   "execution_count": 74,
   "metadata": {},
   "outputs": [
    {
     "data": {
      "image/png": "[encoded data removed]",
      "text/plain": [
       "<Figure size 360x360 with 1 Axes>"
      ]
     },
     "metadata": {
      "needs_background": "light"
     },
     "output_type": "display_data"
    }
   ],
   "source": [
    "# Plotting the points and and the lines\n",
    "\n",
    "fig = plt.subplots(figsize=(5,5))\n",
    "ax = plt.axes()\n",
    "\n",
    "x_coordinates = [x_1, x_2,p_x,x_soln[0]]\n",
    "y_coordinates = [y_1,y_2,p_y,x_soln[1]]\n",
    "\n",
    "plt.annotate(\"P0\", (x_1,y_1+1))\n",
    "plt.annotate(\"P1\", (x_2,y_2+1))\n",
    "plt.annotate(\"P\", (p_x,p_y+1))\n",
    "plt.scatter(x_coordinates, y_coordinates,c=[1,1,2,4])\n",
    "\n",
    "if check_slope==0:\n",
    "    x = np.linspace(0, 20, 1000)\n",
    "    ax.plot(x,((slope*x)+c),label='Line containing P0 and P1')\n",
    "#     ax.plot([foot_x,p_x + 32,p_x - 32],[foot_y,p_y - (32/slope),p_y + (32/slope)],label='Orthogonal Distance')\n",
    "#     ax.plot([p_x,xi],[p_y,yi],label='Orthogonal Distance')\n",
    "    ax.plot([p_x,x_soln[0]],[p_y,x_soln[1]],label='Orthogonal Distance')\n",
    "    plt.xlim(0, 20)\n",
    "    plt.ylim(0, 20)\n",
    "else:\n",
    "    plt.vlines(x_1,0,40,label='Line containing P0 and P1')\n",
    "    plt.hlines(p_y,0,40,label='Orthogonal Distance')\n",
    "\n",
    "leg = ax.legend()"
   ]
  },
  {
   "cell_type": "code",
   "execution_count": null,
   "metadata": {},
   "outputs": [],
   "source": []
  }
 ],
 "metadata": {
  "kernelspec": {
   "display_name": "Python 3",
   "language": "python",
   "name": "python3"
  },
  "language_info": {
   "codemirror_mode": {
    "name": "ipython",
    "version": 3
   },
   "file_extension": ".py",
   "mimetype": "text/x-python",
   "name": "python",
   "nbconvert_exporter": "python",
   "pygments_lexer": "ipython3",
   "version": "3.8.3"
  }
 },
 "nbformat": 4,
 "nbformat_minor": 4
}
