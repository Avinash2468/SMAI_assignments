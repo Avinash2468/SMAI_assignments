{
 "cells": [
  {
   "cell_type": "markdown",
   "metadata": {},
   "source": [
    "# Movie Recommendation System\n",
    "\n",
    "The goal of this assignment is give you practice working with Singular Value Decomposition. Your task is implement a matrix factorization method-such as singular value decomposition (SVD).\n",
    "\n",
    "\n",
    "## Recommender System using SVD\n",
    "\n",
    "Matrix factorization can be used to discover features underlying the interactions between two different kinds of entities. And one obvious application is to predict ratings in collaborative filtering—in other words, to recommend items to users.\n",
    "\n",
    "One advantage of employing matrix factorization for recommender systems is the fact that it can incorporate implicit feedback—information that’s not directly given but can be derived by analyzing user behavior—such as items frequently bought or viewed.\n",
    "\n",
    "Using this capability we can estimate if a user is going to like a movie that they never saw. And if that estimated rating is high, we can recommend that movie to the user, so as to provide a more personalized experience.\n",
    "\n",
    "For example, two users might give high ratings to a certain movie if they both like the actors/actresses of the movie, or if the movie is a thriller movie, which is a genre preferred by both users.\n",
    "\n",
    "Hence, if we can discover these kinds of latent features (like genre or actors and directors), we should be able to predict a rating with respect to a certain user and a certain item, because the features associated with the user should match with the features associated with the item.\n",
    "\n",
    "\n",
    "The data input for a recommender system can be thought of as a large matrix, with the rows indicating an entry for a customer, and the columns indicating an entry for a particular item. Let’s call this matrix $R$. Then entry $R_{i,j}$ will contain the score that customer $i$ has given to product $j$. For example if it’s a review this could be a number from 1–5, or it might just be 0–1 indicating if a user has bought an item or not. This matrix contains a lot of missing information, it’s unlikely a customer has bought every item on Amazon! Recommender systems aim to fill in this missing information, by predicting the customer score of items where the score is missing. Then recommender systems will recommend items to the customer that have the highest score. A typical example of the matrix $R$ with entries that are review values from 1–5 is given in the picture below.\n",
    "\n",
    "<img src=\"images/ex_im_1.png\" alt=\"Utility Matrix\" style=\"width: 80%\"/>"
   ]
  },
  {
   "cell_type": "markdown",
   "metadata": {},
   "source": [
    "#### Imports"
   ]
  },
  {
   "cell_type": "code",
   "execution_count": 21,
   "metadata": {},
   "outputs": [],
   "source": [
    "import pandas as pd\n",
    "import numpy as np\n",
    "import scipy\n",
    "from scipy.linalg import sqrtm"
   ]
  },
  {
   "cell_type": "markdown",
   "metadata": {},
   "source": [
    "#### Dataset\n",
    "\n",
    "The dataset we’ll be working with is a very famous movies dataset: the ml-1m, or the [MovieLens dataset 100 k](https://grouplens.org/datasets/movielens/100k).\n",
    "\n",
    "##### 1. Data Preprocessing\n",
    "We will begin by loading the dataset file present in the `.csv` file into pandas dataframes and visualizing the entries."
   ]
  },
  {
   "cell_type": "code",
   "execution_count": 22,
   "metadata": {},
   "outputs": [
    {
     "name": "stdout",
     "output_type": "stream",
     "text": [
      "        userId  movieId  rating   timestamp\n",
      "0            1        1     5.0   847117005\n",
      "1            1        2     3.0   847642142\n",
      "2            1       10     3.0   847641896\n",
      "3            1       32     4.0   847642008\n",
      "4            1       34     4.0   847641956\n",
      "...        ...      ...     ...         ...\n",
      "100229     718    61132     4.5  1244858928\n",
      "100230     718    62434     5.0  1244918370\n",
      "100231     718    63859     5.0  1244918365\n",
      "100232     718    64969     5.0  1244726246\n",
      "100233     718    68954     5.0  1244726496\n",
      "\n",
      "[100234 rows x 4 columns]\n",
      "Number of users 718\n",
      "Number of movies 8915\n"
     ]
    },
    {
     "data": {
      "text/html": [
       "<div>\n",
       "<style scoped>\n",
       "    .dataframe tbody tr th:only-of-type {\n",
       "        vertical-align: middle;\n",
       "    }\n",
       "\n",
       "    .dataframe tbody tr th {\n",
       "        vertical-align: top;\n",
       "    }\n",
       "\n",
       "    .dataframe thead th {\n",
       "        text-align: right;\n",
       "    }\n",
       "</style>\n",
       "<table border=\"1\" class=\"dataframe\">\n",
       "  <thead>\n",
       "    <tr style=\"text-align: right;\">\n",
       "      <th></th>\n",
       "      <th>userId</th>\n",
       "      <th>movieId</th>\n",
       "      <th>rating</th>\n",
       "      <th>timestamp</th>\n",
       "    </tr>\n",
       "  </thead>\n",
       "  <tbody>\n",
       "    <tr>\n",
       "      <th>0</th>\n",
       "      <td>1</td>\n",
       "      <td>1</td>\n",
       "      <td>5.0</td>\n",
       "      <td>847117005</td>\n",
       "    </tr>\n",
       "    <tr>\n",
       "      <th>1</th>\n",
       "      <td>1</td>\n",
       "      <td>2</td>\n",
       "      <td>3.0</td>\n",
       "      <td>847642142</td>\n",
       "    </tr>\n",
       "    <tr>\n",
       "      <th>2</th>\n",
       "      <td>1</td>\n",
       "      <td>10</td>\n",
       "      <td>3.0</td>\n",
       "      <td>847641896</td>\n",
       "    </tr>\n",
       "    <tr>\n",
       "      <th>3</th>\n",
       "      <td>1</td>\n",
       "      <td>32</td>\n",
       "      <td>4.0</td>\n",
       "      <td>847642008</td>\n",
       "    </tr>\n",
       "    <tr>\n",
       "      <th>4</th>\n",
       "      <td>1</td>\n",
       "      <td>34</td>\n",
       "      <td>4.0</td>\n",
       "      <td>847641956</td>\n",
       "    </tr>\n",
       "  </tbody>\n",
       "</table>\n",
       "</div>"
      ],
      "text/plain": [
       "  userId movieId  rating  timestamp\n",
       "0      1       1     5.0  847117005\n",
       "1      1       2     3.0  847642142\n",
       "2      1      10     3.0  847641896\n",
       "3      1      32     4.0  847642008\n",
       "4      1      34     4.0  847641956"
      ]
     },
     "execution_count": 22,
     "metadata": {},
     "output_type": "execute_result"
    }
   ],
   "source": [
    "data = pd.read_csv('movielens100k.csv')\n",
    "print(data)\n",
    "data['userId'] = data['userId'].astype('str')\n",
    "data['movieId'] = data['movieId'].astype('str')\n",
    "\n",
    "users = data['userId'].unique() #list of all users\n",
    "movies = data['movieId'].unique() #list of all movies\n",
    "\n",
    "print(\"Number of users\", len(users))\n",
    "print(\"Number of movies\", len(movies))\n",
    "\n",
    "data.head()"
   ]
  },
  {
   "cell_type": "markdown",
   "metadata": {},
   "source": [
    "##### 2. Split the data into a train and test set"
   ]
  },
  {
   "cell_type": "code",
   "execution_count": 23,
   "metadata": {},
   "outputs": [
    {
     "name": "stdout",
     "output_type": "stream",
     "text": [
      "Empty DataFrame\n",
      "Columns: [userId, movieId, rating, timestamp]\n",
      "Index: []\n"
     ]
    }
   ],
   "source": [
    "test = pd.DataFrame(columns=data.columns)\n",
    "print(test)\n",
    "train = pd.DataFrame(columns=data.columns)\n",
    "# print(train)\n",
    "test_ratio = 0.2 #fraction of data to be used as test set.\n",
    "for u in users:\n",
    "#     print(u)\n",
    "    temp = data[data['userId'] == u]\n",
    "#     print(temp)\n",
    "    n = len(temp)\n",
    "    test_size = int(test_ratio*n)\n",
    "    #     print(test_size)\n",
    "    # print(test_size)\n",
    "    temp = temp.sort_values('timestamp').reset_index()\n",
    "    # print(temp)\n",
    "    temp.drop('index', axis=1, inplace=True)\n",
    "    # print(temp)\n",
    "    # print(temp)\n",
    "    dummy_test = temp.iloc[n-1-test_size :]\n",
    "    dummy_train = temp.iloc[: n-2-test_size]\n",
    "    # print(dummy_test)\n",
    "    test = pd.concat([test, dummy_test]) # stacks lists vertically\n",
    "    # print(test)\n",
    "    train = pd.concat([train, dummy_train])\n",
    "    # print(train)"
   ]
  },
  {
   "cell_type": "markdown",
   "metadata": {},
   "source": [
    "##### 3. Create the utility matrix\n",
    "\n",
    "The input data will now be converted to the utility matrix $(n\\times m)$ where the rows of the matrix are users $n$ and the columns are the ratings for the $m$-th movie."
   ]
  },
  {
   "cell_type": "code",
   "execution_count": 24,
   "metadata": {},
   "outputs": [],
   "source": [
    "# Create_utility_matrix\n",
    "def create_utility_matrix(data, formatizer = {'user':0, 'item': 1, 'value': 2}):\n",
    "    \"\"\"\n",
    "        :param data:      Array-like, 2D, nx3\n",
    "        :param formatizer:pass the formatizer\n",
    "        :return:          utility matrix (n x m), n=users, m=items\n",
    "    \"\"\"\n",
    "#     print(data)\n",
    "    itemField = formatizer['item']\n",
    "    userField = formatizer['user']\n",
    "    valueField = formatizer['value']\n",
    "    userList = data.iloc[:,userField].tolist()\n",
    "#     print(userList)\n",
    "    itemList = data.iloc[:,itemField].tolist()\n",
    "#     print(itemList)\n",
    "    valueList = data.iloc[:,valueField].tolist()\n",
    "    users = list(set(data.iloc[:,userField]))\n",
    "#     print(users)\n",
    "    items = list(set(data.iloc[:,itemField]))\n",
    "#     print(items)\n",
    "    users_index = {users[i]: i for i in range(len(users))}\n",
    "#     print(users_index)\n",
    "    pd_dict = {item: [np.nan for i in range(len(users))] for item in items}\n",
    "#     print(pd_dict)\n",
    "    for i in range(0,len(data)):\n",
    "        item = itemList[i]\n",
    "        user = userList[i]\n",
    "        value = valueList[i]\n",
    "#         print(item,user,value)\n",
    "#         print(item,user,value)\n",
    "#     print(item,user,value)\n",
    "        pd_dict[item][users_index[user]] = value\n",
    "    X = pd.DataFrame(pd_dict)\n",
    "    X.index = users\n",
    "        \n",
    "    itemcols = list(X.columns)\n",
    "#     print(itemcols)\n",
    "    items_index = {itemcols[i]: i for i in range(len(itemcols))}\n",
    "    # users_index gives us a mapping of user_id to index of user\n",
    "    # items_index provides the same for items\n",
    "    return X, users_index, items_index\n",
    "\n",
    "utilMat, users_index, items_index = create_utility_matrix(train)\n",
    "# print(utilMat,users_index,items_index)"
   ]
  },
  {
   "cell_type": "markdown",
   "metadata": {},
   "source": [
    "#### Metric computation\n",
    "\n",
    "The function rmse computes the root mean square error (RMSE) for the true and the predicted movie ratings."
   ]
  },
  {
   "cell_type": "code",
   "execution_count": 25,
   "metadata": {},
   "outputs": [],
   "source": [
    "def rmse(true, pred):\n",
    "    # this will be used to compute the root mean square error for the true and the predicted movie rating\n",
    "    x = true - pred\n",
    "    return sum([xi*xi for xi in x])/len(x)"
   ]
  },
  {
   "cell_type": "markdown",
   "metadata": {},
   "source": [
    "#### Code for computing SVD for the utility matrix [Write your code here]"
   ]
  },
  {
   "cell_type": "code",
   "execution_count": 26,
   "metadata": {},
   "outputs": [],
   "source": [
    "######## WRITE YOUR CODE TO COMPUTE THE SVD BELOW #############\n",
    "\n",
    "def svd(train, k):\n",
    "    utilMat = np.array(train)\n",
    "    # the nan or unavailable entries are masked\n",
    "    mask = np.isnan(utilMat)\n",
    "    masked_arr = np.ma.masked_array(utilMat, mask)\n",
    "    item_means = np.mean(masked_arr, axis=0)\n",
    "#     print(item_means)\n",
    "    # nan entries will replaced by the average rating for each item\n",
    "    utilMat = masked_arr.filled(item_means)\n",
    "#     print(utilMat)\n",
    "    x = np.tile(item_means, (utilMat.shape[0],1))\n",
    "    # we remove the per item average from all entries.\n",
    "    # the above mentioned nan entries will be essentially zero now\n",
    "    utilMat = utilMat - x\n",
    "#     print(utilMat)\n",
    "    # The magic happens here. U and V are user and item features\n",
    "    U, s, V=np.linalg.svd(utilMat, full_matrices=False)\n",
    "    s=np.diag(s)\n",
    "#     print(s)\n",
    "#     print(\"lol\")\n",
    "    # we take only the k most significant features\n",
    "    s=s[0:k,0:k]\n",
    "    U=U[:,0:k]\n",
    "    V=V[0:k,:]\n",
    "    s_root=sqrtm(s)\n",
    "    Usk=np.dot(U,s_root)\n",
    "    skV=np.dot(s_root,V)\n",
    "    UsV = np.dot(Usk, skV)\n",
    "    UsV = UsV + x\n",
    "#     print(UsV)\n",
    "#     print(\"svd done\")\n",
    "    return UsV\n"
   ]
  },
  {
   "cell_type": "markdown",
   "metadata": {},
   "source": [
    "#### Code for the test set [Write your code here]\n",
    "\n",
    "Write the code that computes the RMSE for the predicted ratings for the test data present in the `test` matrix."
   ]
  },
  {
   "cell_type": "code",
   "execution_count": 27,
   "metadata": {},
   "outputs": [
    {
     "name": "stdout",
     "output_type": "stream",
     "text": [
      "The number of features are: 2\n",
      "The RSME for the test set on for 2 features is 0.970027\n",
      "The number of features are: 4\n",
      "The RSME for the test set on for 4 features is 0.966817\n",
      "The number of features are: 6\n",
      "The RSME for the test set on for 6 features is 0.963446\n",
      "The number of features are: 8\n",
      "The RSME for the test set on for 8 features is 0.963090\n",
      "The number of features are: 10\n",
      "The RSME for the test set on for 10 features is 0.963232\n",
      "The number of features are: 12\n",
      "The RSME for the test set on for 12 features is 0.964597\n",
      "The number of features are: 17\n",
      "The RSME for the test set on for 17 features is 0.962475\n"
     ]
    }
   ],
   "source": [
    "######## WRITE YOUR CODE TO COMPUTE RMSE FOR THE TEST SET BELOW #############\n",
    "# to test the performance over a different number of features\n",
    "no_of_features = [2,4,6,8,10,12,17]\n",
    "utilMat, users_index, items_index = create_utility_matrix(train)\n",
    "# print(utilMat,users_index,items_index)\n",
    "for f in no_of_features: \n",
    "    svdout = svd(utilMat, k=f)\n",
    "    pred = [] #to store the predicted ratings\n",
    "    for _,row in test.iterrows():\n",
    "        user = row['userId']\n",
    "#         print(user)\n",
    "        item = row['movieId']\n",
    "#         print(item)\n",
    "        u_index = users_index[user]\n",
    "        if item in items_index:\n",
    "            i_index = items_index[item]\n",
    "            pred_rating = svdout[u_index, i_index]\n",
    "        else:\n",
    "            pred_rating = np.mean(svdout[u_index, :])\n",
    "        pred.append(pred_rating)\n",
    "    print(\"The number of features are: %d\"%(f))\n",
    "    print(\"The RSME for the test set on for %d features is %f\"%(f,rmse(test['rating'], pred)))\n"
   ]
  }
 ],
 "metadata": {
  "kernelspec": {
   "display_name": "Python 3",
   "language": "python",
   "name": "python3"
  },
  "language_info": {
   "codemirror_mode": {
    "name": "ipython",
    "version": 3
   },
   "file_extension": ".py",
   "mimetype": "text/x-python",
   "name": "python",
   "nbconvert_exporter": "python",
   "pygments_lexer": "ipython3",
   "version": "3.8.5"
  }
 },
 "nbformat": 4,
 "nbformat_minor": 4
}
